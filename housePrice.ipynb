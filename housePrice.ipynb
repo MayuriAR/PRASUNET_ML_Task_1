{
 "cells": [
  {
   "cell_type": "code",
   "execution_count": 1,
   "id": "0db0d48e",
   "metadata": {},
   "outputs": [],
   "source": [
    "import pandas as pd\n",
    "import numpy as np\n",
    "from sklearn.model_selection import train_test_split\n",
    "from sklearn.linear_model import LinearRegression\n",
    "from sklearn.metrics import mean_squared_error\n",
    "import matplotlib.pyplot as plt"
   ]
  },
  {
   "cell_type": "code",
   "execution_count": 2,
   "id": "29458c48",
   "metadata": {},
   "outputs": [
    {
     "ename": "SyntaxError",
     "evalue": "(unicode error) 'unicodeescape' codec can't decode bytes in position 2-3: truncated \\UXXXXXXXX escape (1106183440.py, line 1)",
     "output_type": "error",
     "traceback": [
      "\u001b[1;36m  Cell \u001b[1;32mIn[2], line 1\u001b[1;36m\u001b[0m\n\u001b[1;33m    train_data = pd.read_csv('C:\\Users\\spikey\\housePrize\\train.csv')\u001b[0m\n\u001b[1;37m                                                                   ^\u001b[0m\n\u001b[1;31mSyntaxError\u001b[0m\u001b[1;31m:\u001b[0m (unicode error) 'unicodeescape' codec can't decode bytes in position 2-3: truncated \\UXXXXXXXX escape\n"
     ]
    }
   ],
   "source": [
    "train_data = pd.read_csv('C:\\Users\\spikey\\housePrize\\train.csv')\n",
    "test_data = pd.read_csv('C:\\Users\\spikey\\housePrize\\test.csv')\n",
    "sample_submission = pd.read_csv('C:\\Users\\spikey\\housePrize\\sample_submission.csv')"
   ]
  },
  {
   "cell_type": "code",
   "execution_count": 3,
   "id": "d09fe13a",
   "metadata": {},
   "outputs": [],
   "source": [
    "train_data = pd.read_csv('C:\\\\Users\\\\spikey\\\\housePrize\\\\train.csv')"
   ]
  },
  {
   "cell_type": "code",
   "execution_count": 4,
   "id": "1410b391",
   "metadata": {},
   "outputs": [],
   "source": [
    "test_data = pd.read_csv('C:\\\\Users\\\\spikey\\\\housePrize\\\\test.csv')\n",
    "sample_submission = pd.read_csv('C:\\\\Users\\\\spikey\\\\housePrize\\\\sample_submission.csv')"
   ]
  },
  {
   "cell_type": "code",
   "execution_count": 5,
   "id": "6e44ee1d",
   "metadata": {},
   "outputs": [
    {
     "name": "stdout",
     "output_type": "stream",
     "text": [
      "   Id  MSSubClass MSZoning  LotFrontage  LotArea Street Alley LotShape  \\\n",
      "0   1          60       RL         65.0     8450   Pave   NaN      Reg   \n",
      "1   2          20       RL         80.0     9600   Pave   NaN      Reg   \n",
      "2   3          60       RL         68.0    11250   Pave   NaN      IR1   \n",
      "3   4          70       RL         60.0     9550   Pave   NaN      IR1   \n",
      "4   5          60       RL         84.0    14260   Pave   NaN      IR1   \n",
      "\n",
      "  LandContour Utilities  ... PoolArea PoolQC Fence MiscFeature MiscVal MoSold  \\\n",
      "0         Lvl    AllPub  ...        0    NaN   NaN         NaN       0      2   \n",
      "1         Lvl    AllPub  ...        0    NaN   NaN         NaN       0      5   \n",
      "2         Lvl    AllPub  ...        0    NaN   NaN         NaN       0      9   \n",
      "3         Lvl    AllPub  ...        0    NaN   NaN         NaN       0      2   \n",
      "4         Lvl    AllPub  ...        0    NaN   NaN         NaN       0     12   \n",
      "\n",
      "  YrSold  SaleType  SaleCondition  SalePrice  \n",
      "0   2008        WD         Normal     208500  \n",
      "1   2007        WD         Normal     181500  \n",
      "2   2008        WD         Normal     223500  \n",
      "3   2006        WD        Abnorml     140000  \n",
      "4   2008        WD         Normal     250000  \n",
      "\n",
      "[5 rows x 81 columns]\n"
     ]
    }
   ],
   "source": [
    "print(train_data.head())"
   ]
  },
  {
   "cell_type": "code",
   "execution_count": 6,
   "id": "b9878b83",
   "metadata": {},
   "outputs": [],
   "source": [
    "features = ['GrLivArea', 'BedroomAbvGr', 'FullBath']\n",
    "target = 'SalePrice'"
   ]
  },
  {
   "cell_type": "code",
   "execution_count": 7,
   "id": "81906785",
   "metadata": {},
   "outputs": [],
   "source": [
    "X = train_data[features]\n",
    "y = train_data[target]"
   ]
  },
  {
   "cell_type": "code",
   "execution_count": 8,
   "id": "0cb198ad",
   "metadata": {},
   "outputs": [
    {
     "name": "stderr",
     "output_type": "stream",
     "text": [
      "C:\\Users\\spikey\\AppData\\Local\\Temp\\ipykernel_3700\\1476686261.py:1: SettingWithCopyWarning: \n",
      "A value is trying to be set on a copy of a slice from a DataFrame\n",
      "\n",
      "See the caveats in the documentation: https://pandas.pydata.org/pandas-docs/stable/user_guide/indexing.html#returning-a-view-versus-a-copy\n",
      "  X.fillna(X.mean(), inplace=True)\n"
     ]
    },
    {
     "ename": "TypeError",
     "evalue": "can only concatenate str (not \"int\") to str",
     "output_type": "error",
     "traceback": [
      "\u001b[1;31m---------------------------------------------------------------------------\u001b[0m",
      "\u001b[1;31mTypeError\u001b[0m                                 Traceback (most recent call last)",
      "Cell \u001b[1;32mIn[8], line 2\u001b[0m\n\u001b[0;32m      1\u001b[0m X\u001b[38;5;241m.\u001b[39mfillna(X\u001b[38;5;241m.\u001b[39mmean(), inplace\u001b[38;5;241m=\u001b[39m\u001b[38;5;28;01mTrue\u001b[39;00m)\n\u001b[1;32m----> 2\u001b[0m test_data\u001b[38;5;241m.\u001b[39mfillna(test_data\u001b[38;5;241m.\u001b[39mmean(), inplace\u001b[38;5;241m=\u001b[39m\u001b[38;5;28;01mTrue\u001b[39;00m)\n",
      "File \u001b[1;32mG:\\python\\Lib\\site-packages\\pandas\\core\\generic.py:11556\u001b[0m, in \u001b[0;36mNDFrame._add_numeric_operations.<locals>.mean\u001b[1;34m(self, axis, skipna, numeric_only, **kwargs)\u001b[0m\n\u001b[0;32m  11539\u001b[0m \u001b[38;5;129m@doc\u001b[39m(\n\u001b[0;32m  11540\u001b[0m     _num_doc,\n\u001b[0;32m  11541\u001b[0m     desc\u001b[38;5;241m=\u001b[39m\u001b[38;5;124m\"\u001b[39m\u001b[38;5;124mReturn the mean of the values over the requested axis.\u001b[39m\u001b[38;5;124m\"\u001b[39m,\n\u001b[1;32m   (...)\u001b[0m\n\u001b[0;32m  11554\u001b[0m     \u001b[38;5;241m*\u001b[39m\u001b[38;5;241m*\u001b[39mkwargs,\n\u001b[0;32m  11555\u001b[0m ):\n\u001b[1;32m> 11556\u001b[0m     \u001b[38;5;28;01mreturn\u001b[39;00m NDFrame\u001b[38;5;241m.\u001b[39mmean(\u001b[38;5;28mself\u001b[39m, axis, skipna, numeric_only, \u001b[38;5;241m*\u001b[39m\u001b[38;5;241m*\u001b[39mkwargs)\n",
      "File \u001b[1;32mG:\\python\\Lib\\site-packages\\pandas\\core\\generic.py:11201\u001b[0m, in \u001b[0;36mNDFrame.mean\u001b[1;34m(self, axis, skipna, numeric_only, **kwargs)\u001b[0m\n\u001b[0;32m  11194\u001b[0m \u001b[38;5;28;01mdef\u001b[39;00m \u001b[38;5;21mmean\u001b[39m(\n\u001b[0;32m  11195\u001b[0m     \u001b[38;5;28mself\u001b[39m,\n\u001b[0;32m  11196\u001b[0m     axis: Axis \u001b[38;5;241m|\u001b[39m \u001b[38;5;28;01mNone\u001b[39;00m \u001b[38;5;241m=\u001b[39m \u001b[38;5;241m0\u001b[39m,\n\u001b[1;32m   (...)\u001b[0m\n\u001b[0;32m  11199\u001b[0m     \u001b[38;5;241m*\u001b[39m\u001b[38;5;241m*\u001b[39mkwargs,\n\u001b[0;32m  11200\u001b[0m ) \u001b[38;5;241m-\u001b[39m\u001b[38;5;241m>\u001b[39m Series \u001b[38;5;241m|\u001b[39m \u001b[38;5;28mfloat\u001b[39m:\n\u001b[1;32m> 11201\u001b[0m     \u001b[38;5;28;01mreturn\u001b[39;00m \u001b[38;5;28mself\u001b[39m\u001b[38;5;241m.\u001b[39m_stat_function(\n\u001b[0;32m  11202\u001b[0m         \u001b[38;5;124m\"\u001b[39m\u001b[38;5;124mmean\u001b[39m\u001b[38;5;124m\"\u001b[39m, nanops\u001b[38;5;241m.\u001b[39mnanmean, axis, skipna, numeric_only, \u001b[38;5;241m*\u001b[39m\u001b[38;5;241m*\u001b[39mkwargs\n\u001b[0;32m  11203\u001b[0m     )\n",
      "File \u001b[1;32mG:\\python\\Lib\\site-packages\\pandas\\core\\generic.py:11158\u001b[0m, in \u001b[0;36mNDFrame._stat_function\u001b[1;34m(self, name, func, axis, skipna, numeric_only, **kwargs)\u001b[0m\n\u001b[0;32m  11154\u001b[0m     nv\u001b[38;5;241m.\u001b[39mvalidate_stat_func((), kwargs, fname\u001b[38;5;241m=\u001b[39mname)\n\u001b[0;32m  11156\u001b[0m validate_bool_kwarg(skipna, \u001b[38;5;124m\"\u001b[39m\u001b[38;5;124mskipna\u001b[39m\u001b[38;5;124m\"\u001b[39m, none_allowed\u001b[38;5;241m=\u001b[39m\u001b[38;5;28;01mFalse\u001b[39;00m)\n\u001b[1;32m> 11158\u001b[0m \u001b[38;5;28;01mreturn\u001b[39;00m \u001b[38;5;28mself\u001b[39m\u001b[38;5;241m.\u001b[39m_reduce(\n\u001b[0;32m  11159\u001b[0m     func, name\u001b[38;5;241m=\u001b[39mname, axis\u001b[38;5;241m=\u001b[39maxis, skipna\u001b[38;5;241m=\u001b[39mskipna, numeric_only\u001b[38;5;241m=\u001b[39mnumeric_only\n\u001b[0;32m  11160\u001b[0m )\n",
      "File \u001b[1;32mG:\\python\\Lib\\site-packages\\pandas\\core\\frame.py:10519\u001b[0m, in \u001b[0;36mDataFrame._reduce\u001b[1;34m(self, op, name, axis, skipna, numeric_only, filter_type, **kwds)\u001b[0m\n\u001b[0;32m  10515\u001b[0m     df \u001b[38;5;241m=\u001b[39m df\u001b[38;5;241m.\u001b[39mT\n\u001b[0;32m  10517\u001b[0m \u001b[38;5;66;03m# After possibly _get_data and transposing, we are now in the\u001b[39;00m\n\u001b[0;32m  10518\u001b[0m \u001b[38;5;66;03m#  simple case where we can use BlockManager.reduce\u001b[39;00m\n\u001b[1;32m> 10519\u001b[0m res \u001b[38;5;241m=\u001b[39m df\u001b[38;5;241m.\u001b[39m_mgr\u001b[38;5;241m.\u001b[39mreduce(blk_func)\n\u001b[0;32m  10520\u001b[0m out \u001b[38;5;241m=\u001b[39m df\u001b[38;5;241m.\u001b[39m_constructor(res)\u001b[38;5;241m.\u001b[39miloc[\u001b[38;5;241m0\u001b[39m]\n\u001b[0;32m  10521\u001b[0m \u001b[38;5;28;01mif\u001b[39;00m out_dtype \u001b[38;5;129;01mis\u001b[39;00m \u001b[38;5;129;01mnot\u001b[39;00m \u001b[38;5;28;01mNone\u001b[39;00m:\n",
      "File \u001b[1;32mG:\\python\\Lib\\site-packages\\pandas\\core\\internals\\managers.py:1534\u001b[0m, in \u001b[0;36mBlockManager.reduce\u001b[1;34m(self, func)\u001b[0m\n\u001b[0;32m   1532\u001b[0m res_blocks: \u001b[38;5;28mlist\u001b[39m[Block] \u001b[38;5;241m=\u001b[39m []\n\u001b[0;32m   1533\u001b[0m \u001b[38;5;28;01mfor\u001b[39;00m blk \u001b[38;5;129;01min\u001b[39;00m \u001b[38;5;28mself\u001b[39m\u001b[38;5;241m.\u001b[39mblocks:\n\u001b[1;32m-> 1534\u001b[0m     nbs \u001b[38;5;241m=\u001b[39m blk\u001b[38;5;241m.\u001b[39mreduce(func)\n\u001b[0;32m   1535\u001b[0m     res_blocks\u001b[38;5;241m.\u001b[39mextend(nbs)\n\u001b[0;32m   1537\u001b[0m index \u001b[38;5;241m=\u001b[39m Index([\u001b[38;5;28;01mNone\u001b[39;00m])  \u001b[38;5;66;03m# placeholder\u001b[39;00m\n",
      "File \u001b[1;32mG:\\python\\Lib\\site-packages\\pandas\\core\\internals\\blocks.py:339\u001b[0m, in \u001b[0;36mBlock.reduce\u001b[1;34m(self, func)\u001b[0m\n\u001b[0;32m    333\u001b[0m \u001b[38;5;129m@final\u001b[39m\n\u001b[0;32m    334\u001b[0m \u001b[38;5;28;01mdef\u001b[39;00m \u001b[38;5;21mreduce\u001b[39m(\u001b[38;5;28mself\u001b[39m, func) \u001b[38;5;241m-\u001b[39m\u001b[38;5;241m>\u001b[39m \u001b[38;5;28mlist\u001b[39m[Block]:\n\u001b[0;32m    335\u001b[0m     \u001b[38;5;66;03m# We will apply the function and reshape the result into a single-row\u001b[39;00m\n\u001b[0;32m    336\u001b[0m     \u001b[38;5;66;03m#  Block with the same mgr_locs; squeezing will be done at a higher level\u001b[39;00m\n\u001b[0;32m    337\u001b[0m     \u001b[38;5;28;01massert\u001b[39;00m \u001b[38;5;28mself\u001b[39m\u001b[38;5;241m.\u001b[39mndim \u001b[38;5;241m==\u001b[39m \u001b[38;5;241m2\u001b[39m\n\u001b[1;32m--> 339\u001b[0m     result \u001b[38;5;241m=\u001b[39m func(\u001b[38;5;28mself\u001b[39m\u001b[38;5;241m.\u001b[39mvalues)\n\u001b[0;32m    341\u001b[0m     \u001b[38;5;28;01mif\u001b[39;00m \u001b[38;5;28mself\u001b[39m\u001b[38;5;241m.\u001b[39mvalues\u001b[38;5;241m.\u001b[39mndim \u001b[38;5;241m==\u001b[39m \u001b[38;5;241m1\u001b[39m:\n\u001b[0;32m    342\u001b[0m         \u001b[38;5;66;03m# TODO(EA2D): special case not needed with 2D EAs\u001b[39;00m\n\u001b[0;32m    343\u001b[0m         res_values \u001b[38;5;241m=\u001b[39m np\u001b[38;5;241m.\u001b[39marray([[result]])\n",
      "File \u001b[1;32mG:\\python\\Lib\\site-packages\\pandas\\core\\frame.py:10482\u001b[0m, in \u001b[0;36mDataFrame._reduce.<locals>.blk_func\u001b[1;34m(values, axis)\u001b[0m\n\u001b[0;32m  10480\u001b[0m     \u001b[38;5;28;01mreturn\u001b[39;00m values\u001b[38;5;241m.\u001b[39m_reduce(name, skipna\u001b[38;5;241m=\u001b[39mskipna, \u001b[38;5;241m*\u001b[39m\u001b[38;5;241m*\u001b[39mkwds)\n\u001b[0;32m  10481\u001b[0m \u001b[38;5;28;01melse\u001b[39;00m:\n\u001b[1;32m> 10482\u001b[0m     \u001b[38;5;28;01mreturn\u001b[39;00m op(values, axis\u001b[38;5;241m=\u001b[39maxis, skipna\u001b[38;5;241m=\u001b[39mskipna, \u001b[38;5;241m*\u001b[39m\u001b[38;5;241m*\u001b[39mkwds)\n",
      "File \u001b[1;32mG:\\python\\Lib\\site-packages\\pandas\\core\\nanops.py:96\u001b[0m, in \u001b[0;36mdisallow.__call__.<locals>._f\u001b[1;34m(*args, **kwargs)\u001b[0m\n\u001b[0;32m     94\u001b[0m \u001b[38;5;28;01mtry\u001b[39;00m:\n\u001b[0;32m     95\u001b[0m     \u001b[38;5;28;01mwith\u001b[39;00m np\u001b[38;5;241m.\u001b[39merrstate(invalid\u001b[38;5;241m=\u001b[39m\u001b[38;5;124m\"\u001b[39m\u001b[38;5;124mignore\u001b[39m\u001b[38;5;124m\"\u001b[39m):\n\u001b[1;32m---> 96\u001b[0m         \u001b[38;5;28;01mreturn\u001b[39;00m f(\u001b[38;5;241m*\u001b[39margs, \u001b[38;5;241m*\u001b[39m\u001b[38;5;241m*\u001b[39mkwargs)\n\u001b[0;32m     97\u001b[0m \u001b[38;5;28;01mexcept\u001b[39;00m \u001b[38;5;167;01mValueError\u001b[39;00m \u001b[38;5;28;01mas\u001b[39;00m e:\n\u001b[0;32m     98\u001b[0m     \u001b[38;5;66;03m# we want to transform an object array\u001b[39;00m\n\u001b[0;32m     99\u001b[0m     \u001b[38;5;66;03m# ValueError message to the more typical TypeError\u001b[39;00m\n\u001b[0;32m    100\u001b[0m     \u001b[38;5;66;03m# e.g. this is normally a disallowed function on\u001b[39;00m\n\u001b[0;32m    101\u001b[0m     \u001b[38;5;66;03m# object arrays that contain strings\u001b[39;00m\n\u001b[0;32m    102\u001b[0m     \u001b[38;5;28;01mif\u001b[39;00m is_object_dtype(args[\u001b[38;5;241m0\u001b[39m]):\n",
      "File \u001b[1;32mG:\\python\\Lib\\site-packages\\pandas\\core\\nanops.py:158\u001b[0m, in \u001b[0;36mbottleneck_switch.__call__.<locals>.f\u001b[1;34m(values, axis, skipna, **kwds)\u001b[0m\n\u001b[0;32m    156\u001b[0m         result \u001b[38;5;241m=\u001b[39m alt(values, axis\u001b[38;5;241m=\u001b[39maxis, skipna\u001b[38;5;241m=\u001b[39mskipna, \u001b[38;5;241m*\u001b[39m\u001b[38;5;241m*\u001b[39mkwds)\n\u001b[0;32m    157\u001b[0m \u001b[38;5;28;01melse\u001b[39;00m:\n\u001b[1;32m--> 158\u001b[0m     result \u001b[38;5;241m=\u001b[39m alt(values, axis\u001b[38;5;241m=\u001b[39maxis, skipna\u001b[38;5;241m=\u001b[39mskipna, \u001b[38;5;241m*\u001b[39m\u001b[38;5;241m*\u001b[39mkwds)\n\u001b[0;32m    160\u001b[0m \u001b[38;5;28;01mreturn\u001b[39;00m result\n",
      "File \u001b[1;32mG:\\python\\Lib\\site-packages\\pandas\\core\\nanops.py:421\u001b[0m, in \u001b[0;36m_datetimelike_compat.<locals>.new_func\u001b[1;34m(values, axis, skipna, mask, **kwargs)\u001b[0m\n\u001b[0;32m    418\u001b[0m \u001b[38;5;28;01mif\u001b[39;00m datetimelike \u001b[38;5;129;01mand\u001b[39;00m mask \u001b[38;5;129;01mis\u001b[39;00m \u001b[38;5;28;01mNone\u001b[39;00m:\n\u001b[0;32m    419\u001b[0m     mask \u001b[38;5;241m=\u001b[39m isna(values)\n\u001b[1;32m--> 421\u001b[0m result \u001b[38;5;241m=\u001b[39m func(values, axis\u001b[38;5;241m=\u001b[39maxis, skipna\u001b[38;5;241m=\u001b[39mskipna, mask\u001b[38;5;241m=\u001b[39mmask, \u001b[38;5;241m*\u001b[39m\u001b[38;5;241m*\u001b[39mkwargs)\n\u001b[0;32m    423\u001b[0m \u001b[38;5;28;01mif\u001b[39;00m datetimelike:\n\u001b[0;32m    424\u001b[0m     result \u001b[38;5;241m=\u001b[39m _wrap_results(result, orig_values\u001b[38;5;241m.\u001b[39mdtype, fill_value\u001b[38;5;241m=\u001b[39miNaT)\n",
      "File \u001b[1;32mG:\\python\\Lib\\site-packages\\pandas\\core\\nanops.py:727\u001b[0m, in \u001b[0;36mnanmean\u001b[1;34m(values, axis, skipna, mask)\u001b[0m\n\u001b[0;32m    724\u001b[0m     dtype_count \u001b[38;5;241m=\u001b[39m dtype\n\u001b[0;32m    726\u001b[0m count \u001b[38;5;241m=\u001b[39m _get_counts(values\u001b[38;5;241m.\u001b[39mshape, mask, axis, dtype\u001b[38;5;241m=\u001b[39mdtype_count)\n\u001b[1;32m--> 727\u001b[0m the_sum \u001b[38;5;241m=\u001b[39m _ensure_numeric(values\u001b[38;5;241m.\u001b[39msum(axis, dtype\u001b[38;5;241m=\u001b[39mdtype_sum))\n\u001b[0;32m    729\u001b[0m \u001b[38;5;28;01mif\u001b[39;00m axis \u001b[38;5;129;01mis\u001b[39;00m \u001b[38;5;129;01mnot\u001b[39;00m \u001b[38;5;28;01mNone\u001b[39;00m \u001b[38;5;129;01mand\u001b[39;00m \u001b[38;5;28mgetattr\u001b[39m(the_sum, \u001b[38;5;124m\"\u001b[39m\u001b[38;5;124mndim\u001b[39m\u001b[38;5;124m\"\u001b[39m, \u001b[38;5;28;01mFalse\u001b[39;00m):\n\u001b[0;32m    730\u001b[0m     count \u001b[38;5;241m=\u001b[39m cast(np\u001b[38;5;241m.\u001b[39mndarray, count)\n",
      "File \u001b[1;32mG:\\python\\Lib\\site-packages\\numpy\\core\\_methods.py:49\u001b[0m, in \u001b[0;36m_sum\u001b[1;34m(a, axis, dtype, out, keepdims, initial, where)\u001b[0m\n\u001b[0;32m     47\u001b[0m \u001b[38;5;28;01mdef\u001b[39;00m \u001b[38;5;21m_sum\u001b[39m(a, axis\u001b[38;5;241m=\u001b[39m\u001b[38;5;28;01mNone\u001b[39;00m, dtype\u001b[38;5;241m=\u001b[39m\u001b[38;5;28;01mNone\u001b[39;00m, out\u001b[38;5;241m=\u001b[39m\u001b[38;5;28;01mNone\u001b[39;00m, keepdims\u001b[38;5;241m=\u001b[39m\u001b[38;5;28;01mFalse\u001b[39;00m,\n\u001b[0;32m     48\u001b[0m          initial\u001b[38;5;241m=\u001b[39m_NoValue, where\u001b[38;5;241m=\u001b[39m\u001b[38;5;28;01mTrue\u001b[39;00m):\n\u001b[1;32m---> 49\u001b[0m     \u001b[38;5;28;01mreturn\u001b[39;00m umr_sum(a, axis, dtype, out, keepdims, initial, where)\n",
      "\u001b[1;31mTypeError\u001b[0m: can only concatenate str (not \"int\") to str"
     ]
    }
   ],
   "source": [
    "X.fillna(X.mean(), inplace=True)\n",
    "test_data.fillna(test_data.mean(), inplace=True)"
   ]
  },
  {
   "cell_type": "code",
   "execution_count": 10,
   "id": "189eed1f",
   "metadata": {},
   "outputs": [],
   "source": [
    "X = X.apply(pd.to_numeric, errors='coerce')\n",
    "test_data[features] = test_data[features].apply(pd.to_numeric, errors='coerce')"
   ]
  },
  {
   "cell_type": "code",
   "execution_count": 13,
   "id": "5b4dabcd",
   "metadata": {},
   "outputs": [
    {
     "name": "stderr",
     "output_type": "stream",
     "text": [
      "C:\\Users\\spikey\\AppData\\Local\\Temp\\ipykernel_3700\\2010193812.py:2: SettingWithCopyWarning: \n",
      "A value is trying to be set on a copy of a slice from a DataFrame\n",
      "\n",
      "See the caveats in the documentation: https://pandas.pydata.org/pandas-docs/stable/user_guide/indexing.html#returning-a-view-versus-a-copy\n",
      "  test_data[features].fillna(test_data[features].mean(), inplace=True)\n"
     ]
    }
   ],
   "source": [
    "X.fillna(X.mean(), inplace=True)\n",
    "test_data[features].fillna(test_data[features].mean(), inplace=True)"
   ]
  },
  {
   "cell_type": "code",
   "execution_count": 14,
   "id": "5c6749ef",
   "metadata": {},
   "outputs": [
    {
     "name": "stderr",
     "output_type": "stream",
     "text": [
      "C:\\Users\\spikey\\AppData\\Local\\Temp\\ipykernel_3700\\2010193812.py:2: SettingWithCopyWarning: \n",
      "A value is trying to be set on a copy of a slice from a DataFrame\n",
      "\n",
      "See the caveats in the documentation: https://pandas.pydata.org/pandas-docs/stable/user_guide/indexing.html#returning-a-view-versus-a-copy\n",
      "  test_data[features].fillna(test_data[features].mean(), inplace=True)\n"
     ]
    }
   ],
   "source": [
    "X.fillna(X.mean(), inplace=True)\n",
    "test_data[features].fillna(test_data[features].mean(), inplace=True)"
   ]
  },
  {
   "cell_type": "code",
   "execution_count": 15,
   "id": "fcb54a07",
   "metadata": {},
   "outputs": [],
   "source": [
    "X.loc[:, :] = X.fillna(X.mean())\n",
    "test_data.loc[:, features] = test_data[features].fillna(test_data[features].mean())"
   ]
  },
  {
   "cell_type": "code",
   "execution_count": 16,
   "id": "5ebf8459",
   "metadata": {},
   "outputs": [],
   "source": [
    "X_train, X_val, y_train, y_val = train_test_split(X, y, test_size=0.2, random_state=42)"
   ]
  },
  {
   "cell_type": "code",
   "execution_count": 17,
   "id": "dd0aa483",
   "metadata": {},
   "outputs": [
    {
     "data": {
      "text/html": [
       "<style>#sk-container-id-1 {color: black;}#sk-container-id-1 pre{padding: 0;}#sk-container-id-1 div.sk-toggleable {background-color: white;}#sk-container-id-1 label.sk-toggleable__label {cursor: pointer;display: block;width: 100%;margin-bottom: 0;padding: 0.3em;box-sizing: border-box;text-align: center;}#sk-container-id-1 label.sk-toggleable__label-arrow:before {content: \"▸\";float: left;margin-right: 0.25em;color: #696969;}#sk-container-id-1 label.sk-toggleable__label-arrow:hover:before {color: black;}#sk-container-id-1 div.sk-estimator:hover label.sk-toggleable__label-arrow:before {color: black;}#sk-container-id-1 div.sk-toggleable__content {max-height: 0;max-width: 0;overflow: hidden;text-align: left;background-color: #f0f8ff;}#sk-container-id-1 div.sk-toggleable__content pre {margin: 0.2em;color: black;border-radius: 0.25em;background-color: #f0f8ff;}#sk-container-id-1 input.sk-toggleable__control:checked~div.sk-toggleable__content {max-height: 200px;max-width: 100%;overflow: auto;}#sk-container-id-1 input.sk-toggleable__control:checked~label.sk-toggleable__label-arrow:before {content: \"▾\";}#sk-container-id-1 div.sk-estimator input.sk-toggleable__control:checked~label.sk-toggleable__label {background-color: #d4ebff;}#sk-container-id-1 div.sk-label input.sk-toggleable__control:checked~label.sk-toggleable__label {background-color: #d4ebff;}#sk-container-id-1 input.sk-hidden--visually {border: 0;clip: rect(1px 1px 1px 1px);clip: rect(1px, 1px, 1px, 1px);height: 1px;margin: -1px;overflow: hidden;padding: 0;position: absolute;width: 1px;}#sk-container-id-1 div.sk-estimator {font-family: monospace;background-color: #f0f8ff;border: 1px dotted black;border-radius: 0.25em;box-sizing: border-box;margin-bottom: 0.5em;}#sk-container-id-1 div.sk-estimator:hover {background-color: #d4ebff;}#sk-container-id-1 div.sk-parallel-item::after {content: \"\";width: 100%;border-bottom: 1px solid gray;flex-grow: 1;}#sk-container-id-1 div.sk-label:hover label.sk-toggleable__label {background-color: #d4ebff;}#sk-container-id-1 div.sk-serial::before {content: \"\";position: absolute;border-left: 1px solid gray;box-sizing: border-box;top: 0;bottom: 0;left: 50%;z-index: 0;}#sk-container-id-1 div.sk-serial {display: flex;flex-direction: column;align-items: center;background-color: white;padding-right: 0.2em;padding-left: 0.2em;position: relative;}#sk-container-id-1 div.sk-item {position: relative;z-index: 1;}#sk-container-id-1 div.sk-parallel {display: flex;align-items: stretch;justify-content: center;background-color: white;position: relative;}#sk-container-id-1 div.sk-item::before, #sk-container-id-1 div.sk-parallel-item::before {content: \"\";position: absolute;border-left: 1px solid gray;box-sizing: border-box;top: 0;bottom: 0;left: 50%;z-index: -1;}#sk-container-id-1 div.sk-parallel-item {display: flex;flex-direction: column;z-index: 1;position: relative;background-color: white;}#sk-container-id-1 div.sk-parallel-item:first-child::after {align-self: flex-end;width: 50%;}#sk-container-id-1 div.sk-parallel-item:last-child::after {align-self: flex-start;width: 50%;}#sk-container-id-1 div.sk-parallel-item:only-child::after {width: 0;}#sk-container-id-1 div.sk-dashed-wrapped {border: 1px dashed gray;margin: 0 0.4em 0.5em 0.4em;box-sizing: border-box;padding-bottom: 0.4em;background-color: white;}#sk-container-id-1 div.sk-label label {font-family: monospace;font-weight: bold;display: inline-block;line-height: 1.2em;}#sk-container-id-1 div.sk-label-container {text-align: center;}#sk-container-id-1 div.sk-container {/* jupyter's `normalize.less` sets `[hidden] { display: none; }` but bootstrap.min.css set `[hidden] { display: none !important; }` so we also need the `!important` here to be able to override the default hidden behavior on the sphinx rendered scikit-learn.org. See: https://github.com/scikit-learn/scikit-learn/issues/21755 */display: inline-block !important;position: relative;}#sk-container-id-1 div.sk-text-repr-fallback {display: none;}</style><div id=\"sk-container-id-1\" class=\"sk-top-container\"><div class=\"sk-text-repr-fallback\"><pre>LinearRegression()</pre><b>In a Jupyter environment, please rerun this cell to show the HTML representation or trust the notebook. <br />On GitHub, the HTML representation is unable to render, please try loading this page with nbviewer.org.</b></div><div class=\"sk-container\" hidden><div class=\"sk-item\"><div class=\"sk-estimator sk-toggleable\"><input class=\"sk-toggleable__control sk-hidden--visually\" id=\"sk-estimator-id-1\" type=\"checkbox\" checked><label for=\"sk-estimator-id-1\" class=\"sk-toggleable__label sk-toggleable__label-arrow\">LinearRegression</label><div class=\"sk-toggleable__content\"><pre>LinearRegression()</pre></div></div></div></div></div>"
      ],
      "text/plain": [
       "LinearRegression()"
      ]
     },
     "execution_count": 17,
     "metadata": {},
     "output_type": "execute_result"
    }
   ],
   "source": [
    "model = LinearRegression()\n",
    "model.fit(X_train, y_train)"
   ]
  },
  {
   "cell_type": "code",
   "execution_count": 18,
   "id": "6b7fc330",
   "metadata": {},
   "outputs": [],
   "source": [
    "y_val_pred = model.predict(X_val)"
   ]
  },
  {
   "cell_type": "code",
   "execution_count": 19,
   "id": "d9bad948",
   "metadata": {},
   "outputs": [
    {
     "name": "stdout",
     "output_type": "stream",
     "text": [
      "Validation RMSE: 52975.717713381215\n"
     ]
    }
   ],
   "source": [
    "mse = mean_squared_error(y_val, y_val_pred)\n",
    "rmse = np.sqrt(mse)\n",
    "print(f'Validation RMSE: {rmse}')"
   ]
  },
  {
   "cell_type": "code",
   "execution_count": 20,
   "id": "fa83e04a",
   "metadata": {},
   "outputs": [],
   "source": [
    "X_test = test_data[features]\n",
    "predictions = model.predict(X_test)"
   ]
  },
  {
   "cell_type": "code",
   "execution_count": 21,
   "id": "e82967c5",
   "metadata": {},
   "outputs": [
    {
     "ename": "OSError",
     "evalue": "Cannot save file into a non-existent directory: '\\mnt\\data'",
     "output_type": "error",
     "traceback": [
      "\u001b[1;31m---------------------------------------------------------------------------\u001b[0m",
      "\u001b[1;31mOSError\u001b[0m                                   Traceback (most recent call last)",
      "Cell \u001b[1;32mIn[21], line 3\u001b[0m\n\u001b[0;32m      1\u001b[0m submission \u001b[38;5;241m=\u001b[39m sample_submission\u001b[38;5;241m.\u001b[39mcopy()\n\u001b[0;32m      2\u001b[0m submission[\u001b[38;5;124m'\u001b[39m\u001b[38;5;124mSalePrice\u001b[39m\u001b[38;5;124m'\u001b[39m] \u001b[38;5;241m=\u001b[39m predictions\n\u001b[1;32m----> 3\u001b[0m submission\u001b[38;5;241m.\u001b[39mto_csv(\u001b[38;5;124m'\u001b[39m\u001b[38;5;124m/mnt/data/submission.csv\u001b[39m\u001b[38;5;124m'\u001b[39m, index\u001b[38;5;241m=\u001b[39m\u001b[38;5;28;01mFalse\u001b[39;00m)\n",
      "File \u001b[1;32mG:\\python\\Lib\\site-packages\\pandas\\core\\generic.py:3772\u001b[0m, in \u001b[0;36mNDFrame.to_csv\u001b[1;34m(self, path_or_buf, sep, na_rep, float_format, columns, header, index, index_label, mode, encoding, compression, quoting, quotechar, lineterminator, chunksize, date_format, doublequote, escapechar, decimal, errors, storage_options)\u001b[0m\n\u001b[0;32m   3761\u001b[0m df \u001b[38;5;241m=\u001b[39m \u001b[38;5;28mself\u001b[39m \u001b[38;5;28;01mif\u001b[39;00m \u001b[38;5;28misinstance\u001b[39m(\u001b[38;5;28mself\u001b[39m, ABCDataFrame) \u001b[38;5;28;01melse\u001b[39;00m \u001b[38;5;28mself\u001b[39m\u001b[38;5;241m.\u001b[39mto_frame()\n\u001b[0;32m   3763\u001b[0m formatter \u001b[38;5;241m=\u001b[39m DataFrameFormatter(\n\u001b[0;32m   3764\u001b[0m     frame\u001b[38;5;241m=\u001b[39mdf,\n\u001b[0;32m   3765\u001b[0m     header\u001b[38;5;241m=\u001b[39mheader,\n\u001b[1;32m   (...)\u001b[0m\n\u001b[0;32m   3769\u001b[0m     decimal\u001b[38;5;241m=\u001b[39mdecimal,\n\u001b[0;32m   3770\u001b[0m )\n\u001b[1;32m-> 3772\u001b[0m \u001b[38;5;28;01mreturn\u001b[39;00m DataFrameRenderer(formatter)\u001b[38;5;241m.\u001b[39mto_csv(\n\u001b[0;32m   3773\u001b[0m     path_or_buf,\n\u001b[0;32m   3774\u001b[0m     lineterminator\u001b[38;5;241m=\u001b[39mlineterminator,\n\u001b[0;32m   3775\u001b[0m     sep\u001b[38;5;241m=\u001b[39msep,\n\u001b[0;32m   3776\u001b[0m     encoding\u001b[38;5;241m=\u001b[39mencoding,\n\u001b[0;32m   3777\u001b[0m     errors\u001b[38;5;241m=\u001b[39merrors,\n\u001b[0;32m   3778\u001b[0m     compression\u001b[38;5;241m=\u001b[39mcompression,\n\u001b[0;32m   3779\u001b[0m     quoting\u001b[38;5;241m=\u001b[39mquoting,\n\u001b[0;32m   3780\u001b[0m     columns\u001b[38;5;241m=\u001b[39mcolumns,\n\u001b[0;32m   3781\u001b[0m     index_label\u001b[38;5;241m=\u001b[39mindex_label,\n\u001b[0;32m   3782\u001b[0m     mode\u001b[38;5;241m=\u001b[39mmode,\n\u001b[0;32m   3783\u001b[0m     chunksize\u001b[38;5;241m=\u001b[39mchunksize,\n\u001b[0;32m   3784\u001b[0m     quotechar\u001b[38;5;241m=\u001b[39mquotechar,\n\u001b[0;32m   3785\u001b[0m     date_format\u001b[38;5;241m=\u001b[39mdate_format,\n\u001b[0;32m   3786\u001b[0m     doublequote\u001b[38;5;241m=\u001b[39mdoublequote,\n\u001b[0;32m   3787\u001b[0m     escapechar\u001b[38;5;241m=\u001b[39mescapechar,\n\u001b[0;32m   3788\u001b[0m     storage_options\u001b[38;5;241m=\u001b[39mstorage_options,\n\u001b[0;32m   3789\u001b[0m )\n",
      "File \u001b[1;32mG:\\python\\Lib\\site-packages\\pandas\\io\\formats\\format.py:1186\u001b[0m, in \u001b[0;36mDataFrameRenderer.to_csv\u001b[1;34m(self, path_or_buf, encoding, sep, columns, index_label, mode, compression, quoting, quotechar, lineterminator, chunksize, date_format, doublequote, escapechar, errors, storage_options)\u001b[0m\n\u001b[0;32m   1165\u001b[0m     created_buffer \u001b[38;5;241m=\u001b[39m \u001b[38;5;28;01mFalse\u001b[39;00m\n\u001b[0;32m   1167\u001b[0m csv_formatter \u001b[38;5;241m=\u001b[39m CSVFormatter(\n\u001b[0;32m   1168\u001b[0m     path_or_buf\u001b[38;5;241m=\u001b[39mpath_or_buf,\n\u001b[0;32m   1169\u001b[0m     lineterminator\u001b[38;5;241m=\u001b[39mlineterminator,\n\u001b[1;32m   (...)\u001b[0m\n\u001b[0;32m   1184\u001b[0m     formatter\u001b[38;5;241m=\u001b[39m\u001b[38;5;28mself\u001b[39m\u001b[38;5;241m.\u001b[39mfmt,\n\u001b[0;32m   1185\u001b[0m )\n\u001b[1;32m-> 1186\u001b[0m csv_formatter\u001b[38;5;241m.\u001b[39msave()\n\u001b[0;32m   1188\u001b[0m \u001b[38;5;28;01mif\u001b[39;00m created_buffer:\n\u001b[0;32m   1189\u001b[0m     \u001b[38;5;28;01massert\u001b[39;00m \u001b[38;5;28misinstance\u001b[39m(path_or_buf, StringIO)\n",
      "File \u001b[1;32mG:\\python\\Lib\\site-packages\\pandas\\io\\formats\\csvs.py:240\u001b[0m, in \u001b[0;36mCSVFormatter.save\u001b[1;34m(self)\u001b[0m\n\u001b[0;32m    236\u001b[0m \u001b[38;5;250m\u001b[39m\u001b[38;5;124;03m\"\"\"\u001b[39;00m\n\u001b[0;32m    237\u001b[0m \u001b[38;5;124;03mCreate the writer & save.\u001b[39;00m\n\u001b[0;32m    238\u001b[0m \u001b[38;5;124;03m\"\"\"\u001b[39;00m\n\u001b[0;32m    239\u001b[0m \u001b[38;5;66;03m# apply compression and byte/text conversion\u001b[39;00m\n\u001b[1;32m--> 240\u001b[0m \u001b[38;5;28;01mwith\u001b[39;00m get_handle(\n\u001b[0;32m    241\u001b[0m     \u001b[38;5;28mself\u001b[39m\u001b[38;5;241m.\u001b[39mfilepath_or_buffer,\n\u001b[0;32m    242\u001b[0m     \u001b[38;5;28mself\u001b[39m\u001b[38;5;241m.\u001b[39mmode,\n\u001b[0;32m    243\u001b[0m     encoding\u001b[38;5;241m=\u001b[39m\u001b[38;5;28mself\u001b[39m\u001b[38;5;241m.\u001b[39mencoding,\n\u001b[0;32m    244\u001b[0m     errors\u001b[38;5;241m=\u001b[39m\u001b[38;5;28mself\u001b[39m\u001b[38;5;241m.\u001b[39merrors,\n\u001b[0;32m    245\u001b[0m     compression\u001b[38;5;241m=\u001b[39m\u001b[38;5;28mself\u001b[39m\u001b[38;5;241m.\u001b[39mcompression,\n\u001b[0;32m    246\u001b[0m     storage_options\u001b[38;5;241m=\u001b[39m\u001b[38;5;28mself\u001b[39m\u001b[38;5;241m.\u001b[39mstorage_options,\n\u001b[0;32m    247\u001b[0m ) \u001b[38;5;28;01mas\u001b[39;00m handles:\n\u001b[0;32m    248\u001b[0m     \u001b[38;5;66;03m# Note: self.encoding is irrelevant here\u001b[39;00m\n\u001b[0;32m    249\u001b[0m     \u001b[38;5;28mself\u001b[39m\u001b[38;5;241m.\u001b[39mwriter \u001b[38;5;241m=\u001b[39m csvlib\u001b[38;5;241m.\u001b[39mwriter(\n\u001b[0;32m    250\u001b[0m         handles\u001b[38;5;241m.\u001b[39mhandle,\n\u001b[0;32m    251\u001b[0m         lineterminator\u001b[38;5;241m=\u001b[39m\u001b[38;5;28mself\u001b[39m\u001b[38;5;241m.\u001b[39mlineterminator,\n\u001b[1;32m   (...)\u001b[0m\n\u001b[0;32m    256\u001b[0m         quotechar\u001b[38;5;241m=\u001b[39m\u001b[38;5;28mself\u001b[39m\u001b[38;5;241m.\u001b[39mquotechar,\n\u001b[0;32m    257\u001b[0m     )\n\u001b[0;32m    259\u001b[0m     \u001b[38;5;28mself\u001b[39m\u001b[38;5;241m.\u001b[39m_save()\n",
      "File \u001b[1;32mG:\\python\\Lib\\site-packages\\pandas\\io\\common.py:737\u001b[0m, in \u001b[0;36mget_handle\u001b[1;34m(path_or_buf, mode, encoding, compression, memory_map, is_text, errors, storage_options)\u001b[0m\n\u001b[0;32m    735\u001b[0m \u001b[38;5;66;03m# Only for write methods\u001b[39;00m\n\u001b[0;32m    736\u001b[0m \u001b[38;5;28;01mif\u001b[39;00m \u001b[38;5;124m\"\u001b[39m\u001b[38;5;124mr\u001b[39m\u001b[38;5;124m\"\u001b[39m \u001b[38;5;129;01mnot\u001b[39;00m \u001b[38;5;129;01min\u001b[39;00m mode \u001b[38;5;129;01mand\u001b[39;00m is_path:\n\u001b[1;32m--> 737\u001b[0m     check_parent_directory(\u001b[38;5;28mstr\u001b[39m(handle))\n\u001b[0;32m    739\u001b[0m \u001b[38;5;28;01mif\u001b[39;00m compression:\n\u001b[0;32m    740\u001b[0m     \u001b[38;5;28;01mif\u001b[39;00m compression \u001b[38;5;241m!=\u001b[39m \u001b[38;5;124m\"\u001b[39m\u001b[38;5;124mzstd\u001b[39m\u001b[38;5;124m\"\u001b[39m:\n\u001b[0;32m    741\u001b[0m         \u001b[38;5;66;03m# compression libraries do not like an explicit text-mode\u001b[39;00m\n",
      "File \u001b[1;32mG:\\python\\Lib\\site-packages\\pandas\\io\\common.py:600\u001b[0m, in \u001b[0;36mcheck_parent_directory\u001b[1;34m(path)\u001b[0m\n\u001b[0;32m    598\u001b[0m parent \u001b[38;5;241m=\u001b[39m Path(path)\u001b[38;5;241m.\u001b[39mparent\n\u001b[0;32m    599\u001b[0m \u001b[38;5;28;01mif\u001b[39;00m \u001b[38;5;129;01mnot\u001b[39;00m parent\u001b[38;5;241m.\u001b[39mis_dir():\n\u001b[1;32m--> 600\u001b[0m     \u001b[38;5;28;01mraise\u001b[39;00m \u001b[38;5;167;01mOSError\u001b[39;00m(\u001b[38;5;124mrf\u001b[39m\u001b[38;5;124m\"\u001b[39m\u001b[38;5;124mCannot save file into a non-existent directory: \u001b[39m\u001b[38;5;124m'\u001b[39m\u001b[38;5;132;01m{\u001b[39;00mparent\u001b[38;5;132;01m}\u001b[39;00m\u001b[38;5;124m'\u001b[39m\u001b[38;5;124m\"\u001b[39m)\n",
      "\u001b[1;31mOSError\u001b[0m: Cannot save file into a non-existent directory: '\\mnt\\data'"
     ]
    }
   ],
   "source": [
    "submission = sample_submission.copy()\n",
    "submission['SalePrice'] = predictions\n",
    "submission.to_csv('/mnt/data/submission.csv', index=False)"
   ]
  },
  {
   "cell_type": "code",
   "execution_count": 22,
   "id": "84295b35",
   "metadata": {},
   "outputs": [],
   "source": [
    "submission = sample_submission.copy()\n",
    "submission['SalePrice'] = predictions"
   ]
  },
  {
   "cell_type": "code",
   "execution_count": 23,
   "id": "06863328",
   "metadata": {},
   "outputs": [
    {
     "ename": "OSError",
     "evalue": "[Errno 28] No space left on device",
     "output_type": "error",
     "traceback": [
      "\u001b[1;31m---------------------------------------------------------------------------\u001b[0m",
      "\u001b[1;31mOSError\u001b[0m                                   Traceback (most recent call last)",
      "File \u001b[1;32mG:\\python\\Lib\\site-packages\\pandas\\io\\formats\\csvs.py:259\u001b[0m, in \u001b[0;36mCSVFormatter.save\u001b[1;34m(self)\u001b[0m\n\u001b[0;32m    249\u001b[0m \u001b[38;5;28mself\u001b[39m\u001b[38;5;241m.\u001b[39mwriter \u001b[38;5;241m=\u001b[39m csvlib\u001b[38;5;241m.\u001b[39mwriter(\n\u001b[0;32m    250\u001b[0m     handles\u001b[38;5;241m.\u001b[39mhandle,\n\u001b[0;32m    251\u001b[0m     lineterminator\u001b[38;5;241m=\u001b[39m\u001b[38;5;28mself\u001b[39m\u001b[38;5;241m.\u001b[39mlineterminator,\n\u001b[1;32m   (...)\u001b[0m\n\u001b[0;32m    256\u001b[0m     quotechar\u001b[38;5;241m=\u001b[39m\u001b[38;5;28mself\u001b[39m\u001b[38;5;241m.\u001b[39mquotechar,\n\u001b[0;32m    257\u001b[0m )\n\u001b[1;32m--> 259\u001b[0m \u001b[38;5;28mself\u001b[39m\u001b[38;5;241m.\u001b[39m_save()\n",
      "File \u001b[1;32mG:\\python\\Lib\\site-packages\\pandas\\io\\formats\\csvs.py:264\u001b[0m, in \u001b[0;36mCSVFormatter._save\u001b[1;34m(self)\u001b[0m\n\u001b[0;32m    263\u001b[0m     \u001b[38;5;28mself\u001b[39m\u001b[38;5;241m.\u001b[39m_save_header()\n\u001b[1;32m--> 264\u001b[0m \u001b[38;5;28mself\u001b[39m\u001b[38;5;241m.\u001b[39m_save_body()\n",
      "File \u001b[1;32mG:\\python\\Lib\\site-packages\\pandas\\io\\formats\\csvs.py:302\u001b[0m, in \u001b[0;36mCSVFormatter._save_body\u001b[1;34m(self)\u001b[0m\n\u001b[0;32m    301\u001b[0m     \u001b[38;5;28;01mbreak\u001b[39;00m\n\u001b[1;32m--> 302\u001b[0m \u001b[38;5;28mself\u001b[39m\u001b[38;5;241m.\u001b[39m_save_chunk(start_i, end_i)\n",
      "File \u001b[1;32mG:\\python\\Lib\\site-packages\\pandas\\io\\formats\\csvs.py:313\u001b[0m, in \u001b[0;36mCSVFormatter._save_chunk\u001b[1;34m(self, start_i, end_i)\u001b[0m\n\u001b[0;32m    312\u001b[0m ix \u001b[38;5;241m=\u001b[39m \u001b[38;5;28mself\u001b[39m\u001b[38;5;241m.\u001b[39mdata_index[slicer]\u001b[38;5;241m.\u001b[39m_format_native_types(\u001b[38;5;241m*\u001b[39m\u001b[38;5;241m*\u001b[39m\u001b[38;5;28mself\u001b[39m\u001b[38;5;241m.\u001b[39m_number_format)\n\u001b[1;32m--> 313\u001b[0m libwriters\u001b[38;5;241m.\u001b[39mwrite_csv_rows(\n\u001b[0;32m    314\u001b[0m     data,\n\u001b[0;32m    315\u001b[0m     ix,\n\u001b[0;32m    316\u001b[0m     \u001b[38;5;28mself\u001b[39m\u001b[38;5;241m.\u001b[39mnlevels,\n\u001b[0;32m    317\u001b[0m     \u001b[38;5;28mself\u001b[39m\u001b[38;5;241m.\u001b[39mcols,\n\u001b[0;32m    318\u001b[0m     \u001b[38;5;28mself\u001b[39m\u001b[38;5;241m.\u001b[39mwriter,\n\u001b[0;32m    319\u001b[0m )\n",
      "File \u001b[1;32mG:\\python\\Lib\\site-packages\\pandas\\_libs\\writers.pyx:72\u001b[0m, in \u001b[0;36mpandas._libs.writers.write_csv_rows\u001b[1;34m()\u001b[0m\n",
      "\u001b[1;31mOSError\u001b[0m: [Errno 28] No space left on device",
      "\nDuring handling of the above exception, another exception occurred:\n",
      "\u001b[1;31mOSError\u001b[0m                                   Traceback (most recent call last)",
      "\u001b[1;31mOSError\u001b[0m: [Errno 28] No space left on device",
      "\nDuring handling of the above exception, another exception occurred:\n",
      "\u001b[1;31mOSError\u001b[0m                                   Traceback (most recent call last)",
      "Cell \u001b[1;32mIn[23], line 1\u001b[0m\n\u001b[1;32m----> 1\u001b[0m submission\u001b[38;5;241m.\u001b[39mto_csv(\u001b[38;5;124m'\u001b[39m\u001b[38;5;124mC:\u001b[39m\u001b[38;5;130;01m\\\\\u001b[39;00m\u001b[38;5;124mUsers\u001b[39m\u001b[38;5;130;01m\\\\\u001b[39;00m\u001b[38;5;124mspikey\u001b[39m\u001b[38;5;130;01m\\\\\u001b[39;00m\u001b[38;5;124mhousePrize\u001b[39m\u001b[38;5;130;01m\\\\\u001b[39;00m\u001b[38;5;124msample_submission.csv\u001b[39m\u001b[38;5;124m'\u001b[39m, index\u001b[38;5;241m=\u001b[39m\u001b[38;5;28;01mFalse\u001b[39;00m)\n\u001b[0;32m      3\u001b[0m \u001b[38;5;28mprint\u001b[39m(\u001b[38;5;124m'\u001b[39m\u001b[38;5;124mSubmission file is ready.\u001b[39m\u001b[38;5;124m'\u001b[39m)\n",
      "File \u001b[1;32mG:\\python\\Lib\\site-packages\\pandas\\core\\generic.py:3772\u001b[0m, in \u001b[0;36mNDFrame.to_csv\u001b[1;34m(self, path_or_buf, sep, na_rep, float_format, columns, header, index, index_label, mode, encoding, compression, quoting, quotechar, lineterminator, chunksize, date_format, doublequote, escapechar, decimal, errors, storage_options)\u001b[0m\n\u001b[0;32m   3761\u001b[0m df \u001b[38;5;241m=\u001b[39m \u001b[38;5;28mself\u001b[39m \u001b[38;5;28;01mif\u001b[39;00m \u001b[38;5;28misinstance\u001b[39m(\u001b[38;5;28mself\u001b[39m, ABCDataFrame) \u001b[38;5;28;01melse\u001b[39;00m \u001b[38;5;28mself\u001b[39m\u001b[38;5;241m.\u001b[39mto_frame()\n\u001b[0;32m   3763\u001b[0m formatter \u001b[38;5;241m=\u001b[39m DataFrameFormatter(\n\u001b[0;32m   3764\u001b[0m     frame\u001b[38;5;241m=\u001b[39mdf,\n\u001b[0;32m   3765\u001b[0m     header\u001b[38;5;241m=\u001b[39mheader,\n\u001b[1;32m   (...)\u001b[0m\n\u001b[0;32m   3769\u001b[0m     decimal\u001b[38;5;241m=\u001b[39mdecimal,\n\u001b[0;32m   3770\u001b[0m )\n\u001b[1;32m-> 3772\u001b[0m \u001b[38;5;28;01mreturn\u001b[39;00m DataFrameRenderer(formatter)\u001b[38;5;241m.\u001b[39mto_csv(\n\u001b[0;32m   3773\u001b[0m     path_or_buf,\n\u001b[0;32m   3774\u001b[0m     lineterminator\u001b[38;5;241m=\u001b[39mlineterminator,\n\u001b[0;32m   3775\u001b[0m     sep\u001b[38;5;241m=\u001b[39msep,\n\u001b[0;32m   3776\u001b[0m     encoding\u001b[38;5;241m=\u001b[39mencoding,\n\u001b[0;32m   3777\u001b[0m     errors\u001b[38;5;241m=\u001b[39merrors,\n\u001b[0;32m   3778\u001b[0m     compression\u001b[38;5;241m=\u001b[39mcompression,\n\u001b[0;32m   3779\u001b[0m     quoting\u001b[38;5;241m=\u001b[39mquoting,\n\u001b[0;32m   3780\u001b[0m     columns\u001b[38;5;241m=\u001b[39mcolumns,\n\u001b[0;32m   3781\u001b[0m     index_label\u001b[38;5;241m=\u001b[39mindex_label,\n\u001b[0;32m   3782\u001b[0m     mode\u001b[38;5;241m=\u001b[39mmode,\n\u001b[0;32m   3783\u001b[0m     chunksize\u001b[38;5;241m=\u001b[39mchunksize,\n\u001b[0;32m   3784\u001b[0m     quotechar\u001b[38;5;241m=\u001b[39mquotechar,\n\u001b[0;32m   3785\u001b[0m     date_format\u001b[38;5;241m=\u001b[39mdate_format,\n\u001b[0;32m   3786\u001b[0m     doublequote\u001b[38;5;241m=\u001b[39mdoublequote,\n\u001b[0;32m   3787\u001b[0m     escapechar\u001b[38;5;241m=\u001b[39mescapechar,\n\u001b[0;32m   3788\u001b[0m     storage_options\u001b[38;5;241m=\u001b[39mstorage_options,\n\u001b[0;32m   3789\u001b[0m )\n",
      "File \u001b[1;32mG:\\python\\Lib\\site-packages\\pandas\\io\\formats\\format.py:1186\u001b[0m, in \u001b[0;36mDataFrameRenderer.to_csv\u001b[1;34m(self, path_or_buf, encoding, sep, columns, index_label, mode, compression, quoting, quotechar, lineterminator, chunksize, date_format, doublequote, escapechar, errors, storage_options)\u001b[0m\n\u001b[0;32m   1165\u001b[0m     created_buffer \u001b[38;5;241m=\u001b[39m \u001b[38;5;28;01mFalse\u001b[39;00m\n\u001b[0;32m   1167\u001b[0m csv_formatter \u001b[38;5;241m=\u001b[39m CSVFormatter(\n\u001b[0;32m   1168\u001b[0m     path_or_buf\u001b[38;5;241m=\u001b[39mpath_or_buf,\n\u001b[0;32m   1169\u001b[0m     lineterminator\u001b[38;5;241m=\u001b[39mlineterminator,\n\u001b[1;32m   (...)\u001b[0m\n\u001b[0;32m   1184\u001b[0m     formatter\u001b[38;5;241m=\u001b[39m\u001b[38;5;28mself\u001b[39m\u001b[38;5;241m.\u001b[39mfmt,\n\u001b[0;32m   1185\u001b[0m )\n\u001b[1;32m-> 1186\u001b[0m csv_formatter\u001b[38;5;241m.\u001b[39msave()\n\u001b[0;32m   1188\u001b[0m \u001b[38;5;28;01mif\u001b[39;00m created_buffer:\n\u001b[0;32m   1189\u001b[0m     \u001b[38;5;28;01massert\u001b[39;00m \u001b[38;5;28misinstance\u001b[39m(path_or_buf, StringIO)\n",
      "File \u001b[1;32mG:\\python\\Lib\\site-packages\\pandas\\io\\formats\\csvs.py:240\u001b[0m, in \u001b[0;36mCSVFormatter.save\u001b[1;34m(self)\u001b[0m\n\u001b[0;32m    236\u001b[0m \u001b[38;5;250m\u001b[39m\u001b[38;5;124;03m\"\"\"\u001b[39;00m\n\u001b[0;32m    237\u001b[0m \u001b[38;5;124;03mCreate the writer & save.\u001b[39;00m\n\u001b[0;32m    238\u001b[0m \u001b[38;5;124;03m\"\"\"\u001b[39;00m\n\u001b[0;32m    239\u001b[0m \u001b[38;5;66;03m# apply compression and byte/text conversion\u001b[39;00m\n\u001b[1;32m--> 240\u001b[0m \u001b[38;5;28;01mwith\u001b[39;00m get_handle(\n\u001b[0;32m    241\u001b[0m     \u001b[38;5;28mself\u001b[39m\u001b[38;5;241m.\u001b[39mfilepath_or_buffer,\n\u001b[0;32m    242\u001b[0m     \u001b[38;5;28mself\u001b[39m\u001b[38;5;241m.\u001b[39mmode,\n\u001b[0;32m    243\u001b[0m     encoding\u001b[38;5;241m=\u001b[39m\u001b[38;5;28mself\u001b[39m\u001b[38;5;241m.\u001b[39mencoding,\n\u001b[0;32m    244\u001b[0m     errors\u001b[38;5;241m=\u001b[39m\u001b[38;5;28mself\u001b[39m\u001b[38;5;241m.\u001b[39merrors,\n\u001b[0;32m    245\u001b[0m     compression\u001b[38;5;241m=\u001b[39m\u001b[38;5;28mself\u001b[39m\u001b[38;5;241m.\u001b[39mcompression,\n\u001b[0;32m    246\u001b[0m     storage_options\u001b[38;5;241m=\u001b[39m\u001b[38;5;28mself\u001b[39m\u001b[38;5;241m.\u001b[39mstorage_options,\n\u001b[0;32m    247\u001b[0m ) \u001b[38;5;28;01mas\u001b[39;00m handles:\n\u001b[0;32m    248\u001b[0m     \u001b[38;5;66;03m# Note: self.encoding is irrelevant here\u001b[39;00m\n\u001b[0;32m    249\u001b[0m     \u001b[38;5;28mself\u001b[39m\u001b[38;5;241m.\u001b[39mwriter \u001b[38;5;241m=\u001b[39m csvlib\u001b[38;5;241m.\u001b[39mwriter(\n\u001b[0;32m    250\u001b[0m         handles\u001b[38;5;241m.\u001b[39mhandle,\n\u001b[0;32m    251\u001b[0m         lineterminator\u001b[38;5;241m=\u001b[39m\u001b[38;5;28mself\u001b[39m\u001b[38;5;241m.\u001b[39mlineterminator,\n\u001b[1;32m   (...)\u001b[0m\n\u001b[0;32m    256\u001b[0m         quotechar\u001b[38;5;241m=\u001b[39m\u001b[38;5;28mself\u001b[39m\u001b[38;5;241m.\u001b[39mquotechar,\n\u001b[0;32m    257\u001b[0m     )\n\u001b[0;32m    259\u001b[0m     \u001b[38;5;28mself\u001b[39m\u001b[38;5;241m.\u001b[39m_save()\n",
      "File \u001b[1;32mG:\\python\\Lib\\site-packages\\pandas\\io\\common.py:138\u001b[0m, in \u001b[0;36mIOHandles.__exit__\u001b[1;34m(self, *args)\u001b[0m\n\u001b[0;32m    137\u001b[0m \u001b[38;5;28;01mdef\u001b[39;00m \u001b[38;5;21m__exit__\u001b[39m(\u001b[38;5;28mself\u001b[39m, \u001b[38;5;241m*\u001b[39margs: Any) \u001b[38;5;241m-\u001b[39m\u001b[38;5;241m>\u001b[39m \u001b[38;5;28;01mNone\u001b[39;00m:\n\u001b[1;32m--> 138\u001b[0m     \u001b[38;5;28mself\u001b[39m\u001b[38;5;241m.\u001b[39mclose()\n",
      "File \u001b[1;32mG:\\python\\Lib\\site-packages\\pandas\\io\\common.py:130\u001b[0m, in \u001b[0;36mIOHandles.close\u001b[1;34m(self)\u001b[0m\n\u001b[0;32m    128\u001b[0m     \u001b[38;5;28mself\u001b[39m\u001b[38;5;241m.\u001b[39mcreated_handles\u001b[38;5;241m.\u001b[39mremove(\u001b[38;5;28mself\u001b[39m\u001b[38;5;241m.\u001b[39mhandle)\n\u001b[0;32m    129\u001b[0m \u001b[38;5;28;01mfor\u001b[39;00m handle \u001b[38;5;129;01min\u001b[39;00m \u001b[38;5;28mself\u001b[39m\u001b[38;5;241m.\u001b[39mcreated_handles:\n\u001b[1;32m--> 130\u001b[0m     handle\u001b[38;5;241m.\u001b[39mclose()\n\u001b[0;32m    131\u001b[0m \u001b[38;5;28mself\u001b[39m\u001b[38;5;241m.\u001b[39mcreated_handles \u001b[38;5;241m=\u001b[39m []\n\u001b[0;32m    132\u001b[0m \u001b[38;5;28mself\u001b[39m\u001b[38;5;241m.\u001b[39mis_wrapped \u001b[38;5;241m=\u001b[39m \u001b[38;5;28;01mFalse\u001b[39;00m\n",
      "\u001b[1;31mOSError\u001b[0m: [Errno 28] No space left on device"
     ]
    }
   ],
   "source": [
    "submission.to_csv('C:\\\\Users\\\\spikey\\\\housePrize\\\\sample_submission.csv', index=False)\n",
    "\n",
    "print('Submission file is ready.')"
   ]
  },
  {
   "cell_type": "code",
   "execution_count": 24,
   "id": "d11e15f0",
   "metadata": {},
   "outputs": [],
   "source": [
    "submission = sample_submission.copy()\n",
    "submission['SalePrice'] = predictions"
   ]
  },
  {
   "cell_type": "code",
   "execution_count": 25,
   "id": "91ccfca5",
   "metadata": {},
   "outputs": [
    {
     "ename": "NameError",
     "evalue": "name 'io' is not defined",
     "output_type": "error",
     "traceback": [
      "\u001b[1;31m---------------------------------------------------------------------------\u001b[0m",
      "\u001b[1;31mNameError\u001b[0m                                 Traceback (most recent call last)",
      "Cell \u001b[1;32mIn[25], line 1\u001b[0m\n\u001b[1;32m----> 1\u001b[0m output \u001b[38;5;241m=\u001b[39m io\u001b[38;5;241m.\u001b[39mStringIO()\n\u001b[0;32m      2\u001b[0m submission\u001b[38;5;241m.\u001b[39mto_csv(output, index\u001b[38;5;241m=\u001b[39m\u001b[38;5;28;01mFalse\u001b[39;00m)\n\u001b[0;32m      3\u001b[0m output\u001b[38;5;241m.\u001b[39mseek(\u001b[38;5;241m0\u001b[39m)\n",
      "\u001b[1;31mNameError\u001b[0m: name 'io' is not defined"
     ]
    }
   ],
   "source": [
    "output = io.StringIO()\n",
    "submission.to_csv(output, index=False)\n",
    "output.seek(0)"
   ]
  },
  {
   "cell_type": "code",
   "execution_count": 26,
   "id": "520bb93f",
   "metadata": {},
   "outputs": [],
   "source": [
    "import io"
   ]
  },
  {
   "cell_type": "code",
   "execution_count": 27,
   "id": "169a357a",
   "metadata": {},
   "outputs": [
    {
     "data": {
      "text/plain": [
       "0"
      ]
     },
     "execution_count": 27,
     "metadata": {},
     "output_type": "execute_result"
    }
   ],
   "source": [
    "output = io.StringIO()\n",
    "submission.to_csv(output, index=False)\n",
    "output.seek(0)"
   ]
  },
  {
   "cell_type": "code",
   "execution_count": 28,
   "id": "5c05aeaf",
   "metadata": {},
   "outputs": [
    {
     "ename": "SyntaxError",
     "evalue": "(unicode error) 'unicodeescape' codec can't decode bytes in position 2-3: truncated \\UXXXXXXXX escape (3797406364.py, line 1)",
     "output_type": "error",
     "traceback": [
      "\u001b[1;36m  Cell \u001b[1;32mIn[28], line 1\u001b[1;36m\u001b[0m\n\u001b[1;33m    with open('C:\\Users\\spikey\\housePrize\\sample_submission.csv', 'w') as f:\u001b[0m\n\u001b[1;37m                                                                ^\u001b[0m\n\u001b[1;31mSyntaxError\u001b[0m\u001b[1;31m:\u001b[0m (unicode error) 'unicodeescape' codec can't decode bytes in position 2-3: truncated \\UXXXXXXXX escape\n"
     ]
    }
   ],
   "source": [
    "with open('C:\\Users\\spikey\\housePrize\\sample_submission.csv', 'w') as f:\n",
    "    f.write(output.getvalue())\n",
    "\n",
    "print('Submission file is ready.')"
   ]
  },
  {
   "cell_type": "code",
   "execution_count": 29,
   "id": "bb84cb86",
   "metadata": {},
   "outputs": [
    {
     "ename": "SyntaxError",
     "evalue": "(unicode error) 'unicodeescape' codec can't decode bytes in position 2-3: truncated \\UXXXXXXXX escape (794248066.py, line 1)",
     "output_type": "error",
     "traceback": [
      "\u001b[1;36m  Cell \u001b[1;32mIn[29], line 1\u001b[1;36m\u001b[0m\n\u001b[1;33m    output_file_path = 'C:\\Users\\spikey\\housePrize\\sample_submission.csv'\u001b[0m\n\u001b[1;37m                                                                         ^\u001b[0m\n\u001b[1;31mSyntaxError\u001b[0m\u001b[1;31m:\u001b[0m (unicode error) 'unicodeescape' codec can't decode bytes in position 2-3: truncated \\UXXXXXXXX escape\n"
     ]
    }
   ],
   "source": [
    "output_file_path = 'C:\\Users\\spikey\\housePrize\\sample_submission.csv'\n",
    "with open(output_file_path, 'w', newline='', encoding='utf-8') as f:\n",
    "    f.write(output.getvalue())"
   ]
  },
  {
   "cell_type": "code",
   "execution_count": 31,
   "id": "2a1fbd9d",
   "metadata": {},
   "outputs": [
    {
     "ename": "SyntaxError",
     "evalue": "(unicode error) 'unicodeescape' codec can't decode bytes in position 2-3: truncated \\UXXXXXXXX escape (485535818.py, line 1)",
     "output_type": "error",
     "traceback": [
      "\u001b[1;36m  Cell \u001b[1;32mIn[31], line 1\u001b[1;36m\u001b[0m\n\u001b[1;33m    output_file_path = 'C:\\Users\\spikey\\housePrize\\sample_submission.csv' with open(output_file_path, 'w', newline='', encoding='utf-8') as f:\u001b[0m\n\u001b[1;37m                                                                          ^\u001b[0m\n\u001b[1;31mSyntaxError\u001b[0m\u001b[1;31m:\u001b[0m (unicode error) 'unicodeescape' codec can't decode bytes in position 2-3: truncated \\UXXXXXXXX escape\n"
     ]
    }
   ],
   "source": [
    "output_file_path = 'C:\\Users\\spikey\\housePrize\\sample_submission.csv' with open(output_file_path, 'w', newline='', encoding='utf-8') as f:\n",
    "    f.write(output.getvalue())"
   ]
  },
  {
   "cell_type": "code",
   "execution_count": 32,
   "id": "a4d7c49c",
   "metadata": {},
   "outputs": [
    {
     "ename": "SyntaxError",
     "evalue": "(unicode error) 'unicodeescape' codec can't decode bytes in position 2-3: truncated \\UXXXXXXXX escape (794248066.py, line 1)",
     "output_type": "error",
     "traceback": [
      "\u001b[1;36m  Cell \u001b[1;32mIn[32], line 1\u001b[1;36m\u001b[0m\n\u001b[1;33m    output_file_path = 'C:\\Users\\spikey\\housePrize\\sample_submission.csv'\u001b[0m\n\u001b[1;37m                                                                         ^\u001b[0m\n\u001b[1;31mSyntaxError\u001b[0m\u001b[1;31m:\u001b[0m (unicode error) 'unicodeescape' codec can't decode bytes in position 2-3: truncated \\UXXXXXXXX escape\n"
     ]
    }
   ],
   "source": [
    "output_file_path = 'C:\\Users\\spikey\\housePrize\\sample_submission.csv'\n",
    "with open(output_file_path, 'w', newline='', encoding='utf-8') as f:\n",
    "    f.write(output.getvalue())"
   ]
  },
  {
   "cell_type": "code",
   "execution_count": 33,
   "id": "d7733936",
   "metadata": {},
   "outputs": [],
   "source": [
    "output_bytes = io.BytesIO(output.getvalue().encode('utf-8'))"
   ]
  },
  {
   "cell_type": "code",
   "execution_count": 34,
   "id": "223b3b22",
   "metadata": {},
   "outputs": [
    {
     "ename": "SyntaxError",
     "evalue": "(unicode error) 'unicodeescape' codec can't decode bytes in position 2-3: truncated \\UXXXXXXXX escape (2982630958.py, line 1)",
     "output_type": "error",
     "traceback": [
      "\u001b[1;36m  Cell \u001b[1;32mIn[34], line 1\u001b[1;36m\u001b[0m\n\u001b[1;33m    with open('C:\\Users\\spikey\\housePrize\\sample_submission.csv', 'wb') as f:\u001b[0m\n\u001b[1;37m                                                                ^\u001b[0m\n\u001b[1;31mSyntaxError\u001b[0m\u001b[1;31m:\u001b[0m (unicode error) 'unicodeescape' codec can't decode bytes in position 2-3: truncated \\UXXXXXXXX escape\n"
     ]
    }
   ],
   "source": [
    "with open('C:\\Users\\spikey\\housePrize\\sample_submission.csv', 'wb') as f:\n",
    "    f.write(output_bytes.getvalue())"
   ]
  },
  {
   "cell_type": "code",
   "execution_count": 35,
   "id": "3b4c32fb",
   "metadata": {},
   "outputs": [
    {
     "ename": "SyntaxError",
     "evalue": "(unicode error) 'unicodeescape' codec can't decode bytes in position 2-3: truncated \\UXXXXXXXX escape (1577659880.py, line 1)",
     "output_type": "error",
     "traceback": [
      "\u001b[1;36m  Cell \u001b[1;32mIn[35], line 1\u001b[1;36m\u001b[0m\n\u001b[1;33m    with open('C:\\Users\\spikey\\housePrize\\sample_submission.csv') as f:\u001b[0m\n\u001b[1;37m                                                                ^\u001b[0m\n\u001b[1;31mSyntaxError\u001b[0m\u001b[1;31m:\u001b[0m (unicode error) 'unicodeescape' codec can't decode bytes in position 2-3: truncated \\UXXXXXXXX escape\n"
     ]
    }
   ],
   "source": [
    "with open('C:\\Users\\spikey\\housePrize\\sample_submission.csv') as f:\n",
    "    f.write(output_bytes.getvalue())"
   ]
  },
  {
   "cell_type": "code",
   "execution_count": 36,
   "id": "bb88b710",
   "metadata": {},
   "outputs": [],
   "source": [
    "output_bytes = io.BytesIO(output.getvalue().encode('utf-8'))"
   ]
  },
  {
   "cell_type": "code",
   "execution_count": 37,
   "id": "cb6416f6",
   "metadata": {},
   "outputs": [],
   "source": [
    "output_file_path = r'C:\\Users\\spikey\\housePrize\\sample_submission.csv'"
   ]
  },
  {
   "cell_type": "code",
   "execution_count": 38,
   "id": "25c52d49",
   "metadata": {},
   "outputs": [
    {
     "ename": "OSError",
     "evalue": "[Errno 28] No space left on device",
     "output_type": "error",
     "traceback": [
      "\u001b[1;31m---------------------------------------------------------------------------\u001b[0m",
      "\u001b[1;31mOSError\u001b[0m                                   Traceback (most recent call last)",
      "Cell \u001b[1;32mIn[38], line 2\u001b[0m\n\u001b[0;32m      1\u001b[0m \u001b[38;5;28;01mwith\u001b[39;00m \u001b[38;5;28mopen\u001b[39m(output_file_path, \u001b[38;5;124m'\u001b[39m\u001b[38;5;124mwb\u001b[39m\u001b[38;5;124m'\u001b[39m) \u001b[38;5;28;01mas\u001b[39;00m f:\n\u001b[1;32m----> 2\u001b[0m     f\u001b[38;5;241m.\u001b[39mwrite(output_bytes\u001b[38;5;241m.\u001b[39mgetvalue())\n",
      "\u001b[1;31mOSError\u001b[0m: [Errno 28] No space left on device"
     ]
    }
   ],
   "source": [
    "with open(output_file_path, 'wb') as f:\n",
    "    f.write(output_bytes.getvalue())"
   ]
  },
  {
   "cell_type": "code",
   "execution_count": 39,
   "id": "8f47e515",
   "metadata": {},
   "outputs": [
    {
     "ename": "NameError",
     "evalue": "name 'base64' is not defined",
     "output_type": "error",
     "traceback": [
      "\u001b[1;31m---------------------------------------------------------------------------\u001b[0m",
      "\u001b[1;31mNameError\u001b[0m                                 Traceback (most recent call last)",
      "Cell \u001b[1;32mIn[39], line 1\u001b[0m\n\u001b[1;32m----> 1\u001b[0m b64 \u001b[38;5;241m=\u001b[39m base64\u001b[38;5;241m.\u001b[39mb64encode(output_bytes\u001b[38;5;241m.\u001b[39mgetvalue())\u001b[38;5;241m.\u001b[39mdecode()\n\u001b[0;32m      2\u001b[0m href \u001b[38;5;241m=\u001b[39m \u001b[38;5;124mf\u001b[39m\u001b[38;5;124m'\u001b[39m\u001b[38;5;124m<a href=\u001b[39m\u001b[38;5;124m\"\u001b[39m\u001b[38;5;124mdata:file/csv;base64,\u001b[39m\u001b[38;5;132;01m{\u001b[39;00mb64\u001b[38;5;132;01m}\u001b[39;00m\u001b[38;5;124m\"\u001b[39m\u001b[38;5;124m download=\u001b[39m\u001b[38;5;124m\"\u001b[39m\u001b[38;5;124msubmission.csv\u001b[39m\u001b[38;5;124m\"\u001b[39m\u001b[38;5;124m>Download submission file</a>\u001b[39m\u001b[38;5;124m'\u001b[39m\n",
      "\u001b[1;31mNameError\u001b[0m: name 'base64' is not defined"
     ]
    }
   ],
   "source": [
    "b64 = base64.b64encode(output_bytes.getvalue()).decode()\n",
    "href = f'<a href=\"data:file/csv;base64,{b64}\" download=\"submission.csv\">Download submission file</a>'"
   ]
  },
  {
   "cell_type": "code",
   "execution_count": 40,
   "id": "d3910232",
   "metadata": {},
   "outputs": [],
   "source": [
    "import base64"
   ]
  },
  {
   "cell_type": "code",
   "execution_count": 41,
   "id": "2fc8ef42",
   "metadata": {},
   "outputs": [],
   "source": [
    "b64 = base64.b64encode(output_bytes.getvalue()).decode()\n",
    "href = f'<a href=\"data:file/csv;base64,{b64}\" download=\"submission.csv\">Download submission file</a>'"
   ]
  },
  {
   "cell_type": "code",
   "execution_count": 42,
   "id": "de3b8fbf",
   "metadata": {},
   "outputs": [
    {
     "data": {
      "text/html": [
       "<a href=\"data:file/csv;base64,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\" download=\"submission.csv\">Download submission file</a>"
      ],
      "text/plain": [
       "<IPython.core.display.HTML object>"
      ]
     },
     "metadata": {},
     "output_type": "display_data"
    }
   ],
   "source": [
    "from IPython.display import display, HTML\n",
    "display(HTML(href))"
   ]
  },
  {
   "cell_type": "code",
   "execution_count": null,
   "id": "1e750dd3",
   "metadata": {},
   "outputs": [],
   "source": []
  }
 ],
 "metadata": {
  "kernelspec": {
   "display_name": "Python 3 (ipykernel)",
   "language": "python",
   "name": "python3"
  },
  "language_info": {
   "codemirror_mode": {
    "name": "ipython",
    "version": 3
   },
   "file_extension": ".py",
   "mimetype": "text/x-python",
   "name": "python",
   "nbconvert_exporter": "python",
   "pygments_lexer": "ipython3",
   "version": "3.11.5"
  }
 },
 "nbformat": 4,
 "nbformat_minor": 5
}
